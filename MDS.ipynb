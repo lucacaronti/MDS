{
 "cells": [
  {
   "cell_type": "code",
   "execution_count": 2,
   "metadata": {},
   "outputs": [],
   "source": [
    "import numpy as np\n",
    "import matplotlib.pyplot as plt"
   ]
  },
  {
   "cell_type": "markdown",
   "metadata": {},
   "source": [
    "# MDS (MultiDimensional Scaling)\n",
    "Allows to recostruct the geometry of a system given interdistances between agents.\n",
    "The thory can be found at: https://en.wikipedia.org/wiki/Multidimensional_scaling\n",
    "\n",
    "Of course the reconstruction suffers from rotation, translation and mirror ambiguity."
   ]
  },
  {
   "cell_type": "code",
   "execution_count": 10,
   "metadata": {},
   "outputs": [],
   "source": [
    "def MDS(dist_matrix):\n",
    "\t\"\"\"\n",
    "\tMulti Dimension Scaling\n",
    "\t\n",
    "\t@param1: A matrix of distances\n",
    "\t@return: List of found poistions (can be also with immaginary part)\n",
    "\t\"\"\"\n",
    "\tn = len(dist_matrix) # number of samples\n",
    "\tm = 2 # output dimensions (2D)\n",
    "\tD = dist_matrix\n",
    "\n",
    "\t# Define some variables\n",
    "\tI = np.identity(n)\n",
    "\tJ = np.ones((n,n))\n",
    "\n",
    "\t# Centering matrix\n",
    "\tC = I - (1/n)*J\n",
    "\n",
    "\t# Calc the double centering\n",
    "\tB = -0.5*np.dot(np.dot(C,D**2),C)\n",
    "\n",
    "\t# Get eigenvalues and eigenvectors\n",
    "\teigenvalues, eigenvectors = np.linalg.eig(B)\n",
    "\n",
    "\t# Sort eigenvalues idex from in descending mode\n",
    "\tsortedIdx = list(np.argsort(eigenvalues))[::-1]\n",
    "\t\n",
    "\t# Get the m largest eigenvalues and corresponding eigenvectors\n",
    "\teigenvalues = np.array([eigenvalues[i] for i in sortedIdx[0:m]])\n",
    "\teigenvectors = np.array([eigenvectors[:,i] for i in sortedIdx[0:m]]).transpose()\n",
    "\n",
    "\t# Return the results\n",
    "\treturn np.dot(eigenvectors, np.sqrt(np.diag(eigenvalues)))"
   ]
  },
  {
   "cell_type": "markdown",
   "metadata": {},
   "source": [
    "## Example"
   ]
  },
  {
   "cell_type": "code",
   "execution_count": 16,
   "metadata": {},
   "outputs": [
    {
     "data": {
      "image/png": "[encoded data removed]",
      "text/plain": [
       "<Figure size 432x288 with 1 Axes>"
      ]
     },
     "metadata": {
      "needs_background": "light"
     },
     "output_type": "display_data"
    },
    {
     "data": {
      "image/png": "[encoded data removed]",
      "text/plain": [
       "<Figure size 432x288 with 1 Axes>"
      ]
     },
     "metadata": {
      "needs_background": "light"
     },
     "output_type": "display_data"
    }
   ],
   "source": [
    "if __name__ == \"__main__\":\n",
    "    def rnd(): return np.random.rand()\n",
    "    def dist(p1, p2): return np.linalg.norm(p1-p2) \n",
    "    def noise(): return np.random.normal(0, 0.000)\n",
    "\n",
    "    # Create some random points in 2d space\n",
    "    n = 10 # number of points\n",
    "    P = np.array([[rnd(), rnd()] for i in range(n)])\n",
    "    plt.scatter(P[:,0], P[:,1])\n",
    "    plt.show()\n",
    "    \n",
    "    # Create the distance matrix\n",
    "    D = np.zeros((n,n))\n",
    "    # Fill the distance matrix\n",
    "    for i in range(len(P)):\n",
    "        for j in range(len(P)):\n",
    "            if i != j: D[i,j] = dist(P[i], P[j]) + noise()\n",
    "\n",
    "    res = MDS(D)\n",
    "    res = np.real(res) # In some cases there can be also the immaginary part\n",
    "    plt.scatter(res[:,0], res[:,1])\n",
    "    plt.show()"
   ]
  }
 ],
 "metadata": {
  "kernelspec": {
   "display_name": "Python 3.10.4 64-bit",
   "language": "python",
   "name": "python3"
  },
  "language_info": {
   "codemirror_mode": {
    "name": "ipython",
    "version": 3
   },
   "file_extension": ".py",
   "mimetype": "text/x-python",
   "name": "python",
   "nbconvert_exporter": "python",
   "pygments_lexer": "ipython3",
   "version": "3.10.4"
  },
  "orig_nbformat": 4,
  "vscode": {
   "interpreter": {
    "hash": "916dbcbb3f70747c44a77c7bcd40155683ae19c65e1c03b4aa3499c5328201f1"
   }
  }
 },
 "nbformat": 4,
 "nbformat_minor": 2
}
